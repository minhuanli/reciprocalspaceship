{
 "cells": [
  {
   "cell_type": "markdown",
   "metadata": {},
   "source": [
    "# Quickstart  \n",
    "\n",
    "Load reflection data and preview the ``rs.DataSet`` object."
   ]
  },
  {
   "cell_type": "code",
   "execution_count": 1,
   "metadata": {},
   "outputs": [
    {
     "name": "stdout",
     "output_type": "stream",
     "text": [
      "0.9.9\n"
     ]
    }
   ],
   "source": [
    "import reciprocalspaceship as rs\n",
    "print(rs.__version__)"
   ]
  },
  {
   "cell_type": "code",
   "execution_count": 2,
   "metadata": {},
   "outputs": [
    {
     "data": {
      "text/html": [
       "<div>\n",
       "<style scoped>\n",
       "    .dataframe tbody tr th:only-of-type {\n",
       "        vertical-align: middle;\n",
       "    }\n",
       "\n",
       "    .dataframe tbody tr th {\n",
       "        vertical-align: top;\n",
       "    }\n",
       "\n",
       "    .dataframe thead th {\n",
       "        text-align: right;\n",
       "    }\n",
       "</style>\n",
       "<table border=\"1\" class=\"dataframe\">\n",
       "  <thead>\n",
       "    <tr style=\"text-align: right;\">\n",
       "      <th></th>\n",
       "      <th></th>\n",
       "      <th></th>\n",
       "      <th>FreeR_flag</th>\n",
       "      <th>IMEAN</th>\n",
       "      <th>SIGIMEAN</th>\n",
       "      <th>I(+)</th>\n",
       "      <th>SIGI(+)</th>\n",
       "      <th>I(-)</th>\n",
       "      <th>SIGI(-)</th>\n",
       "      <th>N(+)</th>\n",
       "      <th>N(-)</th>\n",
       "    </tr>\n",
       "    <tr>\n",
       "      <th>H</th>\n",
       "      <th>K</th>\n",
       "      <th>L</th>\n",
       "      <th></th>\n",
       "      <th></th>\n",
       "      <th></th>\n",
       "      <th></th>\n",
       "      <th></th>\n",
       "      <th></th>\n",
       "      <th></th>\n",
       "      <th></th>\n",
       "      <th></th>\n",
       "    </tr>\n",
       "  </thead>\n",
       "  <tbody>\n",
       "    <tr>\n",
       "      <th rowspan=\"4\" valign=\"top\">0</th>\n",
       "      <th rowspan=\"4\" valign=\"top\">0</th>\n",
       "      <th>4</th>\n",
       "      <td>14</td>\n",
       "      <td>661.29987</td>\n",
       "      <td>21.953098</td>\n",
       "      <td>661.29987</td>\n",
       "      <td>21.953098</td>\n",
       "      <td>661.29987</td>\n",
       "      <td>21.953098</td>\n",
       "      <td>16</td>\n",
       "      <td>16</td>\n",
       "    </tr>\n",
       "    <tr>\n",
       "      <th>8</th>\n",
       "      <td>4</td>\n",
       "      <td>3229.649</td>\n",
       "      <td>105.980934</td>\n",
       "      <td>3229.649</td>\n",
       "      <td>105.980934</td>\n",
       "      <td>3229.649</td>\n",
       "      <td>105.980934</td>\n",
       "      <td>16</td>\n",
       "      <td>16</td>\n",
       "    </tr>\n",
       "    <tr>\n",
       "      <th>12</th>\n",
       "      <td>6</td>\n",
       "      <td>1361.8672</td>\n",
       "      <td>43.06085</td>\n",
       "      <td>1361.8672</td>\n",
       "      <td>43.06085</td>\n",
       "      <td>1361.8672</td>\n",
       "      <td>43.06085</td>\n",
       "      <td>16</td>\n",
       "      <td>16</td>\n",
       "    </tr>\n",
       "    <tr>\n",
       "      <th>16</th>\n",
       "      <td>19</td>\n",
       "      <td>4124.393</td>\n",
       "      <td>196.89108</td>\n",
       "      <td>4124.393</td>\n",
       "      <td>196.89108</td>\n",
       "      <td>4124.393</td>\n",
       "      <td>196.89108</td>\n",
       "      <td>8</td>\n",
       "      <td>8</td>\n",
       "    </tr>\n",
       "    <tr>\n",
       "      <th>1</th>\n",
       "      <th>0</th>\n",
       "      <th>1</th>\n",
       "      <td>16</td>\n",
       "      <td>559.33685</td>\n",
       "      <td>8.6263</td>\n",
       "      <td>559.33685</td>\n",
       "      <td>8.6263</td>\n",
       "      <td>559.33685</td>\n",
       "      <td>8.6263</td>\n",
       "      <td>64</td>\n",
       "      <td>64</td>\n",
       "    </tr>\n",
       "  </tbody>\n",
       "</table>\n",
       "</div>"
      ],
      "text/plain": [
       "        FreeR_flag     IMEAN   SIGIMEAN      I(+)    SIGI(+)      I(-)  \\\n",
       "H K L                                                                    \n",
       "0 0 4           14 661.29987  21.953098 661.29987  21.953098 661.29987   \n",
       "    8            4  3229.649 105.980934  3229.649 105.980934  3229.649   \n",
       "    12           6 1361.8672   43.06085 1361.8672   43.06085 1361.8672   \n",
       "    16          19  4124.393  196.89108  4124.393  196.89108  4124.393   \n",
       "1 0 1           16 559.33685     8.6263 559.33685     8.6263 559.33685   \n",
       "\n",
       "          SIGI(-)  N(+)  N(-)  \n",
       "H K L                          \n",
       "0 0 4   21.953098    16    16  \n",
       "    8  105.980934    16    16  \n",
       "    12   43.06085    16    16  \n",
       "    16  196.89108     8     8  \n",
       "1 0 1      8.6263    64    64  "
      ]
     },
     "execution_count": 2,
     "metadata": {},
     "output_type": "execute_result"
    }
   ],
   "source": [
    "dataset = rs.read_mtz(\"data/HEWL_SSAD_24IDC.mtz\")\n",
    "dataset.head()"
   ]
  },
  {
   "cell_type": "markdown",
   "metadata": {},
   "source": [
    "The above table should look familiar to Python users that have experience with ``pandas``. The``rs.DataSet`` objects also store unit cell and spacegroup information as attributes. These attributes are stored as ``gemmi`` objects. For more information on the ``gemmi`` Python library, please see their [documentation](https://gemmi.readthedocs.io/en/latest/)."
   ]
  },
  {
   "cell_type": "code",
   "execution_count": 3,
   "metadata": {},
   "outputs": [
    {
     "name": "stdout",
     "output_type": "stream",
     "text": [
      "<gemmi.UnitCell(79.3439, 79.3439, 37.8099, 90, 90, 90)>\n"
     ]
    }
   ],
   "source": [
    "print(dataset.cell)"
   ]
  },
  {
   "cell_type": "code",
   "execution_count": 4,
   "metadata": {},
   "outputs": [
    {
     "name": "stdout",
     "output_type": "stream",
     "text": [
      "<gemmi.SpaceGroup(\"P 43 21 2\")>\n"
     ]
    }
   ],
   "source": [
    "print(dataset.spacegroup)"
   ]
  },
  {
   "cell_type": "markdown",
   "metadata": {},
   "source": [
    "To illustrate using the unit cell parameter information, let's determine the highest resolution reflection in the dataset:"
   ]
  },
  {
   "cell_type": "code",
   "execution_count": 5,
   "metadata": {},
   "outputs": [
    {
     "data": {
      "text/html": [
       "<div>\n",
       "<style scoped>\n",
       "    .dataframe tbody tr th:only-of-type {\n",
       "        vertical-align: middle;\n",
       "    }\n",
       "\n",
       "    .dataframe tbody tr th {\n",
       "        vertical-align: top;\n",
       "    }\n",
       "\n",
       "    .dataframe thead th {\n",
       "        text-align: right;\n",
       "    }\n",
       "</style>\n",
       "<table border=\"1\" class=\"dataframe\">\n",
       "  <thead>\n",
       "    <tr style=\"text-align: right;\">\n",
       "      <th></th>\n",
       "      <th></th>\n",
       "      <th></th>\n",
       "      <th>FreeR_flag</th>\n",
       "      <th>IMEAN</th>\n",
       "      <th>SIGIMEAN</th>\n",
       "      <th>I(+)</th>\n",
       "      <th>SIGI(+)</th>\n",
       "      <th>I(-)</th>\n",
       "      <th>SIGI(-)</th>\n",
       "      <th>N(+)</th>\n",
       "      <th>N(-)</th>\n",
       "      <th>dHKL</th>\n",
       "    </tr>\n",
       "    <tr>\n",
       "      <th>H</th>\n",
       "      <th>K</th>\n",
       "      <th>L</th>\n",
       "      <th></th>\n",
       "      <th></th>\n",
       "      <th></th>\n",
       "      <th></th>\n",
       "      <th></th>\n",
       "      <th></th>\n",
       "      <th></th>\n",
       "      <th></th>\n",
       "      <th></th>\n",
       "      <th></th>\n",
       "    </tr>\n",
       "  </thead>\n",
       "  <tbody>\n",
       "    <tr>\n",
       "      <th rowspan=\"4\" valign=\"top\">0</th>\n",
       "      <th rowspan=\"4\" valign=\"top\">0</th>\n",
       "      <th>4</th>\n",
       "      <td>14</td>\n",
       "      <td>661.29987</td>\n",
       "      <td>21.953098</td>\n",
       "      <td>661.29987</td>\n",
       "      <td>21.953098</td>\n",
       "      <td>661.29987</td>\n",
       "      <td>21.953098</td>\n",
       "      <td>16</td>\n",
       "      <td>16</td>\n",
       "      <td>9.452475</td>\n",
       "    </tr>\n",
       "    <tr>\n",
       "      <th>8</th>\n",
       "      <td>4</td>\n",
       "      <td>3229.649</td>\n",
       "      <td>105.980934</td>\n",
       "      <td>3229.649</td>\n",
       "      <td>105.980934</td>\n",
       "      <td>3229.649</td>\n",
       "      <td>105.980934</td>\n",
       "      <td>16</td>\n",
       "      <td>16</td>\n",
       "      <td>4.7262373</td>\n",
       "    </tr>\n",
       "    <tr>\n",
       "      <th>12</th>\n",
       "      <td>6</td>\n",
       "      <td>1361.8672</td>\n",
       "      <td>43.06085</td>\n",
       "      <td>1361.8672</td>\n",
       "      <td>43.06085</td>\n",
       "      <td>1361.8672</td>\n",
       "      <td>43.06085</td>\n",
       "      <td>16</td>\n",
       "      <td>16</td>\n",
       "      <td>3.150825</td>\n",
       "    </tr>\n",
       "    <tr>\n",
       "      <th>16</th>\n",
       "      <td>19</td>\n",
       "      <td>4124.393</td>\n",
       "      <td>196.89108</td>\n",
       "      <td>4124.393</td>\n",
       "      <td>196.89108</td>\n",
       "      <td>4124.393</td>\n",
       "      <td>196.89108</td>\n",
       "      <td>8</td>\n",
       "      <td>8</td>\n",
       "      <td>2.3631186</td>\n",
       "    </tr>\n",
       "    <tr>\n",
       "      <th>1</th>\n",
       "      <th>0</th>\n",
       "      <th>1</th>\n",
       "      <td>16</td>\n",
       "      <td>559.33685</td>\n",
       "      <td>8.6263</td>\n",
       "      <td>559.33685</td>\n",
       "      <td>8.6263</td>\n",
       "      <td>559.33685</td>\n",
       "      <td>8.6263</td>\n",
       "      <td>64</td>\n",
       "      <td>64</td>\n",
       "      <td>34.13254</td>\n",
       "    </tr>\n",
       "  </tbody>\n",
       "</table>\n",
       "</div>"
      ],
      "text/plain": [
       "        FreeR_flag     IMEAN   SIGIMEAN      I(+)    SIGI(+)      I(-)  \\\n",
       "H K L                                                                    \n",
       "0 0 4           14 661.29987  21.953098 661.29987  21.953098 661.29987   \n",
       "    8            4  3229.649 105.980934  3229.649 105.980934  3229.649   \n",
       "    12           6 1361.8672   43.06085 1361.8672   43.06085 1361.8672   \n",
       "    16          19  4124.393  196.89108  4124.393  196.89108  4124.393   \n",
       "1 0 1           16 559.33685     8.6263 559.33685     8.6263 559.33685   \n",
       "\n",
       "          SIGI(-)  N(+)  N(-)      dHKL  \n",
       "H K L                                    \n",
       "0 0 4   21.953098    16    16  9.452475  \n",
       "    8  105.980934    16    16 4.7262373  \n",
       "    12   43.06085    16    16  3.150825  \n",
       "    16  196.89108     8     8 2.3631186  \n",
       "1 0 1      8.6263    64    64  34.13254  "
      ]
     },
     "execution_count": 5,
     "metadata": {},
     "output_type": "execute_result"
    }
   ],
   "source": [
    "dataset.compute_dHKL(inplace=True)\n",
    "dataset.head()"
   ]
  },
  {
   "cell_type": "code",
   "execution_count": 6,
   "metadata": {},
   "outputs": [
    {
     "name": "stdout",
     "output_type": "stream",
     "text": [
      "1.70 angstroms\n"
     ]
    }
   ],
   "source": [
    "print(f\"{dataset.dHKL.min():.2f} angstroms\")"
   ]
  }
 ],
 "metadata": {
  "kernelspec": {
   "display_name": "Python 3",
   "language": "python",
   "name": "python3"
  },
  "language_info": {
   "codemirror_mode": {
    "name": "ipython",
    "version": 3
   },
   "file_extension": ".py",
   "mimetype": "text/x-python",
   "name": "python",
   "nbconvert_exporter": "python",
   "pygments_lexer": "ipython3",
   "version": "3.8.5"
  }
 },
 "nbformat": 4,
 "nbformat_minor": 4
}
